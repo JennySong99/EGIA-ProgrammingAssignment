{
 "cells": [
  {
   "cell_type": "markdown",
   "metadata": {},
   "source": [
    "# It's the Final Countdown (Project)!"
   ]
  },
  {
   "cell_type": "markdown",
   "metadata": {},
   "source": [
    "Welcome to your Final Project, where all your machine learning skills will be put to test completing a deep learning task!\n",
    "\n",
    "First, you will work on a toy example to practice build the training piprline using the functions you wrote for the past assignment: Forward, Compute Loss, Backward and Gradient Descent. "
   ]
  },
  {
   "cell_type": "markdown",
   "metadata": {},
   "source": [
    "# Toy Example: Gravity of Mars"
   ]
  },
  {
   "cell_type": "markdown",
   "metadata": {},
   "source": [
    "NASA recently landed a rover on Mars! To emperically measure the gravity of Mars, NASA sent the rover with 100 objects of known mass(measured on Earth with gravity of Earth). The rover was able to measure the amount of gravitational forces experienced by each of these 100 objects. Help NASA find the gravity of Mars using gradient descent!\n",
    "\n",
    "<img src=\"https://s.yimg.com/os/creatr-uploaded-images/2020-07/131e69b0-cad0-11ea-a7f3-ff12d4122702\" alt=\"MarsRover\" style=\"width: 500px;\"/>"
   ]
  },
  {
   "cell_type": "markdown",
   "metadata": {},
   "source": [
    "## Install and import required python libraries"
   ]
  },
  {
   "cell_type": "code",
   "execution_count": 2,
   "metadata": {},
   "outputs": [
    {
     "name": "stdout",
     "output_type": "stream",
     "text": [
      "Requirement already satisfied: torch in /Users/jennysong/opt/anaconda3/lib/python3.8/site-packages (1.7.1)\n",
      "Requirement already satisfied: numpy in /Users/jennysong/opt/anaconda3/lib/python3.8/site-packages (1.19.2)\n",
      "Requirement already satisfied: matplotlib in /Users/jennysong/opt/anaconda3/lib/python3.8/site-packages (3.3.2)\n",
      "Requirement already satisfied: typing_extensions in /Users/jennysong/opt/anaconda3/lib/python3.8/site-packages (from torch) (3.7.4.3)\n",
      "Requirement already satisfied: certifi>=2020.06.20 in /Users/jennysong/opt/anaconda3/lib/python3.8/site-packages (from matplotlib) (2020.6.20)\n",
      "Requirement already satisfied: python-dateutil>=2.1 in /Users/jennysong/opt/anaconda3/lib/python3.8/site-packages (from matplotlib) (2.8.1)\n",
      "Requirement already satisfied: cycler>=0.10 in /Users/jennysong/opt/anaconda3/lib/python3.8/site-packages (from matplotlib) (0.10.0)\n",
      "Requirement already satisfied: pillow>=6.2.0 in /Users/jennysong/opt/anaconda3/lib/python3.8/site-packages (from matplotlib) (8.0.1)\n",
      "Requirement already satisfied: pyparsing!=2.0.4,!=2.1.2,!=2.1.6,>=2.0.3 in /Users/jennysong/opt/anaconda3/lib/python3.8/site-packages (from matplotlib) (2.4.7)\n",
      "Requirement already satisfied: kiwisolver>=1.0.1 in /Users/jennysong/opt/anaconda3/lib/python3.8/site-packages (from matplotlib) (1.3.0)\n",
      "Requirement already satisfied: six>=1.5 in /Users/jennysong/opt/anaconda3/lib/python3.8/site-packages (from python-dateutil>=2.1->matplotlib) (1.15.0)\n"
     ]
    }
   ],
   "source": [
    "!pip install torch numpy matplotlib\n",
    "import numpy as np\n",
    "from ModelWrapper import check_answer\n",
    "import matplotlib.pyplot as plt"
   ]
  },
  {
   "cell_type": "markdown",
   "metadata": {},
   "source": [
    "### Data has already been collected for you here:"
   ]
  },
  {
   "cell_type": "code",
   "execution_count": 4,
   "metadata": {},
   "outputs": [],
   "source": [
    "# Data collected\n",
    "gravitational_forces_measured = np.array([74.33922471, 18.89621021, 30.58944369, 87.37739668, 60.4725419 ,\n",
    "       57.6803083 , 56.2648722 , 93.00173316, 42.709132  , 41.79055808,\n",
    "       80.04357277, 71.69702041, 57.35612417, 45.43189827, 58.20043038,\n",
    "       64.31022133, 28.42197906, 42.53010491, 85.1058512 , 38.93001604,\n",
    "       49.52833613, 33.22718541, 91.75993885, 56.21887701, 80.93994588,\n",
    "       48.01562877, 18.9732248 , 57.74769716, 45.84018553, 91.60806876,\n",
    "       19.70652165, 37.60727816, 45.61403876, 69.8887408 , 52.77067505,\n",
    "       44.82916722, 18.85670526, 86.9777561 , 56.82597148, 65.92260198,\n",
    "       71.53819987, 64.0595462 , 22.58504336, 48.96056478, 28.25736909,\n",
    "       21.70609598, 38.96906147, 30.87682747, 76.77237865, 67.3654563 ])\n",
    "mass_known = np.array([19.97829966,  5.07833211,  8.22078435, 23.48221443, 16.25162994,\n",
    "       15.50120738, 15.1208723 , 24.9937833 , 11.47791295, 11.23109415,\n",
    "       21.51129403, 19.26826622, 15.4140919 , 12.20962345, 15.64103563,\n",
    "       17.28298684,  7.63826191, 11.42969585, 22.87174834, 10.46217718,\n",
    "       13.3105441 ,  8.9295792 , 24.66007791, 15.10851944, 21.75213904,\n",
    "       12.90390673,  5.09905799, 15.51950094, 12.31934303, 24.6191229 ,\n",
    "        5.29592859, 10.10680612, 12.25849186, 18.78223016, 14.18179067,\n",
    "       12.04753032,  5.0676313 , 23.37479313, 15.27177695, 17.71636206,\n",
    "       19.22556517, 17.21566366,  6.06971178, 13.15797054,  7.59393684,\n",
    "        5.83347426, 10.47273137,  8.29789311, 20.63209229, 18.10405342])"
   ]
  },
  {
   "cell_type": "markdown",
   "metadata": {},
   "source": [
    "### Complete the neural network training loop by fill out the lines marked with #TODO!\n",
    "\n",
    "#### (Hint: gravitational_forces_measured = gravity_of_mars * mass_known)\n",
    "\n",
    "You should be able to see the Gravity of Mars our neural network converged to, and our loss/weight trajectory as it converges."
   ]
  },
  {
   "cell_type": "code",
   "execution_count": null,
   "metadata": {},
   "outputs": [],
   "source": [
    "w = 10 # initial w\n",
    "learning_rate = 1e-3\n",
    "num_epochs = 30\n",
    "\n",
    "loss_trajectory = []\n",
    "w_trajectory = []\n",
    "\n",
    "for _ in range(num_epochs):\n",
    "    prediction = # TODO: Use our current model to predict\n",
    "    loss =       # TODO: Compute the loss between our prediction and the ground truth\n",
    "    gradient =   # TODO: Compute gradients for our model parameters\n",
    "    w =          # TODO: Update our model parameters with the computed gradients\n",
    "    loss_trajectory.append(loss)\n",
    "    w_trajectory.append(w)\n",
    "\n",
    "plt.title(\"Gradient Descent: Loss\")\n",
    "plt.xlabel(\"Number of Epochs\")\n",
    "plt.ylabel(\"Loss\")\n",
    "plt.plot(loss_trajectory)\n",
    "\n",
    "plt.figure()\n",
    "plt.title(\"Gradient Descent: Weight\")\n",
    "plt.xlabel(\"Number of Epochs\")\n",
    "plt.ylabel(\"Weight\")\n",
    "plt.plot(w_trajectory)\n",
    "\n",
    "print(f\"Gravity of Mars found: {w}\")\n"
   ]
  },
  {
   "cell_type": "markdown",
   "metadata": {},
   "source": [
    "# Facemask Detector\n"
   ]
  },
  {
   "cell_type": "markdown",
   "metadata": {},
   "source": [
    "\n",
    "  \n",
    "Next, we will use PyTorch to build a small neural network to predict if a person is wearing a face mask or not!\n",
    "\n",
    "<img src=\"https://cdn.romania-insider.com/cdn/ff/aktSImH-OfcpgkvvcRwBFtSoRtFaVFtyU3mBCjGPw-s/1628000060/public/styles/article_large_image/public/2020-07/face_recognition_mask_by_viktoriia_miroshnikovadreamstime.com_.jpg\" alt=\"FaceMask\" style=\"width: 250px;\"/>\n",
    "\n",
    "\n",
    "Because of the difficulty of this task, we have completed most of the tedious coding for you. Your task is to complete the neural network training and evaluation pipeline by filling out lines marked with #TODO in [Training and Evaluation](#Training-and-Evaluation)."
   ]
  },
  {
   "cell_type": "markdown",
   "metadata": {},
   "source": [
    "## Install and import required python libraries"
   ]
  },
  {
   "cell_type": "code",
   "execution_count": null,
   "metadata": {},
   "outputs": [],
   "source": [
    "!pip install torch numpy matplotlib tqdm\n",
    "import torch\n",
    "import torch.nn as nn\n",
    "import torch.nn.functional as F\n",
    "from ModelWrapper import ModelWrapper, backward, gradient_descent_step, forward, compute_loss\n",
    "from torch.utils.data import Dataset, DataLoader\n",
    "from tqdm.notebook import tqdm"
   ]
  },
  {
   "cell_type": "markdown",
   "metadata": {},
   "source": [
    "# Model"
   ]
  },
  {
   "cell_type": "code",
   "execution_count": null,
   "metadata": {},
   "outputs": [],
   "source": [
    "class Net(nn.Module):\n",
    "    def __init__(self):\n",
    "        super().__init__()\n",
    "        self.fc1 = nn.Linear(20, 20)\n",
    "        self.fc2 = nn.Linear(20, 20)\n",
    "        self.fc3 = nn.Linear(20, 1)\n",
    "\n",
    "    def forward(self, x):\n",
    "        x = F.relu(self.fc1(x))\n",
    "        x = F.relu(self.fc2(x))\n",
    "        x = self.fc3(x)\n",
    "        return x\n",
    "\n",
    "net = Net()\n",
    "model = ModelWrapper(net) # our prediction model"
   ]
  },
  {
   "cell_type": "markdown",
   "metadata": {},
   "source": [
    "# Dataset"
   ]
  },
  {
   "cell_type": "code",
   "execution_count": null,
   "metadata": {},
   "outputs": [],
   "source": [
    "class fakeDataset(Dataset):\n",
    "    def __init__(self, length, seed=0):\n",
    "        self.data = torch.rand(length, 20)\n",
    "        self.seed = seed\n",
    "\n",
    "    def __len__(self):\n",
    "        return len(self.data)\n",
    "\n",
    "    def __getitem__(self, idx):\n",
    "        return self.data[idx], torch.rand(1)"
   ]
  },
  {
   "cell_type": "code",
   "execution_count": null,
   "metadata": {},
   "outputs": [],
   "source": [
    "# data loaders that generate batches for our stochastic gradient descent\n",
    "training_data = fakeDataset(10000)\n",
    "valid_data = fakeDataset(100)\n",
    "\n",
    "train_dataloader = DataLoader(training_data, batch_size=64, shuffle=True)\n",
    "valid_dataloader = DataLoader(valid_data, batch_size=64, shuffle=False)"
   ]
  },
  {
   "cell_type": "markdown",
   "metadata": {},
   "source": [
    "# Hyper-parameter"
   ]
  },
  {
   "cell_type": "code",
   "execution_count": null,
   "metadata": {},
   "outputs": [],
   "source": [
    "learning_rate = # TODO"
   ]
  },
  {
   "cell_type": "markdown",
   "metadata": {},
   "source": [
    "# Training and Evaluation"
   ]
  },
  {
   "cell_type": "code",
   "execution_count": null,
   "metadata": {
    "scrolled": false
   },
   "outputs": [],
   "source": [
    "num_epochs = 100\n",
    "all_losses = []\n",
    "for epoch in tqdm(range(num_epochs)):  # loop over the dataset multiple times\n",
    "    # train\n",
    "    for data in train_dataloader:\n",
    "        # get the inputs; data is a list of [inputs, labels]\n",
    "        input, label = data\n",
    "\n",
    "        prediction = # TODO: Use our current model to predict\n",
    "        loss =       # TODO: Compute the loss between our prediction and the ground truth\n",
    "        gradient =   # TODO: Compute gradients for our model parameters\n",
    "        model =      # TODO: Update our model parameters with the computed gradients\n",
    "        \n",
    "    # evaluate\n",
    "    validation_losses = []\n",
    "    for data in valid_dataloader:\n",
    "        # get the inputs; data is a list of [inputs, labels]\n",
    "        inputs, labels = data\n",
    "\n",
    "        with torch.no_grad():\n",
    "            outputs = # TODO: Use our current model to predict\n",
    "            loss =    # TODO: Compute the loss between our prediction and the ground truth\n",
    "\n",
    "            validation_losses.append(loss.item())\n",
    "    print(f\"epoch {epoch} validation loss {sum(validation_losses)}\")\n",
    "    all_losses.append(sum(validation_losses))\n",
    "print('Finished Training')"
   ]
  },
  {
   "cell_type": "markdown",
   "metadata": {},
   "source": [
    "### Plot the valiation loss. Is it always decreasing? If not, why?"
   ]
  },
  {
   "cell_type": "markdown",
   "metadata": {},
   "source": [
    "#### You've reached the end of the final project! Hooray!"
   ]
  }
 ],
 "metadata": {
  "kernelspec": {
   "display_name": "Python 3",
   "language": "python",
   "name": "python3"
  },
  "language_info": {
   "codemirror_mode": {
    "name": "ipython",
    "version": 3
   },
   "file_extension": ".py",
   "mimetype": "text/x-python",
   "name": "python",
   "nbconvert_exporter": "python",
   "pygments_lexer": "ipython3",
   "version": "3.8.5"
  }
 },
 "nbformat": 4,
 "nbformat_minor": 2
}
