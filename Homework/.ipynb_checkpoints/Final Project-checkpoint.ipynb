{
 "cells": [
  {
   "cell_type": "code",
   "execution_count": null,
   "metadata": {},
   "outputs": [],
   "source": [
    "import torch\n",
    "import torch.nn as nn\n",
    "import torch.nn.functional as F\n",
    "from ModelWrapper import ModelWrapper, backward, gradient_descent_step, forward, compute_loss\n",
    "from torch.utils.data import Dataset, DataLoader\n",
    "from tqdm.notebook import tqdm"
   ]
  },
  {
   "cell_type": "code",
   "execution_count": null,
   "metadata": {},
   "outputs": [],
   "source": [
    "class Net(nn.Module):\n",
    "    def __init__(self):\n",
    "        super().__init__()\n",
    "        self.fc1 = nn.Linear(20, 20)\n",
    "        self.fc2 = nn.Linear(20, 20)\n",
    "        self.fc3 = nn.Linear(20, 1)\n",
    "\n",
    "    def forward(self, x):\n",
    "        x = F.relu(self.fc1(x))\n",
    "        x = F.relu(self.fc2(x))\n",
    "        x = self.fc3(x)\n",
    "        return x\n",
    "\n",
    "net = Net()\n",
    "model = ModelWrapper(net) # our prediction model"
   ]
  },
  {
   "cell_type": "code",
   "execution_count": null,
   "metadata": {},
   "outputs": [],
   "source": [
    "class fakeDataset(Dataset):\n",
    "    def __init__(self, length, seed=0):\n",
    "        self.data = torch.rand(length, 20)\n",
    "        self.seed = seed\n",
    "\n",
    "    def __len__(self):\n",
    "        return len(self.data)\n",
    "\n",
    "    def __getitem__(self, idx):\n",
    "        return self.data[idx], torch.rand(1)"
   ]
  },
  {
   "cell_type": "code",
   "execution_count": null,
   "metadata": {},
   "outputs": [],
   "source": [
    "# data loaders that generate batches for our stochastic gradient descent\n",
    "training_data = fakeDataset(10000)\n",
    "valid_data = fakeDataset(100)\n",
    "\n",
    "train_dataloader = DataLoader(training_data, batch_size=64, shuffle=True)\n",
    "valid_dataloader = DataLoader(valid_data, batch_size=64, shuffle=False)"
   ]
  },
  {
   "cell_type": "code",
   "execution_count": null,
   "metadata": {},
   "outputs": [],
   "source": [
    "learning_rate = # TODO"
   ]
  },
  {
   "cell_type": "code",
   "execution_count": null,
   "metadata": {
    "scrolled": false
   },
   "outputs": [],
   "source": [
    "num_epochs = 100\n",
    "all_losses = []\n",
    "for epoch in tqdm(range(num_epochs)):  # loop over the dataset multiple times\n",
    "    # train\n",
    "    for data in train_dataloader:\n",
    "        # get the inputs; data is a list of [inputs, labels]\n",
    "        input, label = data\n",
    "\n",
    "        prediction = # TODO: Use our current model to predict\n",
    "        loss =       # TODO: Compute the loss between our prediction and the ground truth\n",
    "        gradient =   # TODO: Compute gradients for our model parameters\n",
    "        model =      # TODO: Update our model parameters with the computed gradients\n",
    "        \n",
    "    # evaluate\n",
    "    validation_losses = []\n",
    "    for data in valid_dataloader:\n",
    "        # get the inputs; data is a list of [inputs, labels]\n",
    "        inputs, labels = data\n",
    "\n",
    "        with torch.no_grad():\n",
    "            outputs = # TODO: Use our current model to predict\n",
    "            loss =    # TODO: Compute the loss between our prediction and the ground truth\n",
    "\n",
    "            validation_losses.append(loss.item())\n",
    "    print(f\"epoch {epoch} validation loss {sum(validation_losses)}\")\n",
    "    all_losses.append(sum(validation_losses))\n",
    "print('Finished Training')"
   ]
  }
 ],
 "metadata": {
  "kernelspec": {
   "display_name": "Python 3",
   "language": "python",
   "name": "python3"
  },
  "language_info": {
   "codemirror_mode": {
    "name": "ipython",
    "version": 3
   },
   "file_extension": ".py",
   "mimetype": "text/x-python",
   "name": "python",
   "nbconvert_exporter": "python",
   "pygments_lexer": "ipython3",
   "version": "3.8.5"
  }
 },
 "nbformat": 4,
 "nbformat_minor": 2
}
