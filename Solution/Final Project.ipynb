{
 "cells": [
  {
   "cell_type": "code",
   "execution_count": 1,
   "metadata": {},
   "outputs": [],
   "source": [
    "import torch\n",
    "import torch.nn as nn\n",
    "import torch.nn.functional as F\n",
    "from ModelWrapper import ModelWrapper, backward, gradient_descent_step, forward, compute_loss\n",
    "from torch.utils.data import Dataset, DataLoader\n",
    "from tqdm.notebook import tqdm"
   ]
  },
  {
   "cell_type": "code",
   "execution_count": 2,
   "metadata": {},
   "outputs": [],
   "source": [
    "class Net(nn.Module):\n",
    "    def __init__(self):\n",
    "        super().__init__()\n",
    "        self.fc1 = nn.Linear(20, 20)\n",
    "        self.fc2 = nn.Linear(20, 20)\n",
    "        self.fc3 = nn.Linear(20, 1)\n",
    "\n",
    "    def forward(self, x):\n",
    "        x = F.relu(self.fc1(x))\n",
    "        x = F.relu(self.fc2(x))\n",
    "        x = self.fc3(x)\n",
    "        return x\n",
    "\n",
    "net = Net()\n",
    "model = ModelWrapper(net) # our prediction model"
   ]
  },
  {
   "cell_type": "code",
   "execution_count": 3,
   "metadata": {},
   "outputs": [],
   "source": [
    "class fakeDataset(Dataset):\n",
    "    def __init__(self, length, seed=0):\n",
    "        self.data = torch.rand(length, 20)\n",
    "        self.seed = seed\n",
    "\n",
    "    def __len__(self):\n",
    "        return len(self.data)\n",
    "\n",
    "    def __getitem__(self, idx):\n",
    "        return self.data[idx], torch.rand(1)"
   ]
  },
  {
   "cell_type": "code",
   "execution_count": 4,
   "metadata": {},
   "outputs": [],
   "source": [
    "# data loaders that generate batches for our stochastic gradient descent\n",
    "training_data = fakeDataset(10000)\n",
    "valid_data = fakeDataset(100)\n",
    "\n",
    "train_dataloader = DataLoader(training_data, batch_size=64, shuffle=True)\n",
    "valid_dataloader = DataLoader(valid_data, batch_size=64, shuffle=False)"
   ]
  },
  {
   "cell_type": "code",
   "execution_count": 5,
   "metadata": {},
   "outputs": [],
   "source": [
    "learning_rate = 1e-3 # TODO"
   ]
  },
  {
   "cell_type": "code",
   "execution_count": 6,
   "metadata": {
    "scrolled": false
   },
   "outputs": [
    {
     "data": {
      "application/vnd.jupyter.widget-view+json": {
       "model_id": "ea38e1164f4d4ae7b04178a26e6590b0",
       "version_major": 2,
       "version_minor": 0
      },
      "text/plain": [
       "HBox(children=(IntProgress(value=0), HTML(value='')))"
      ]
     },
     "metadata": {},
     "output_type": "display_data"
    },
    {
     "name": "stdout",
     "output_type": "stream",
     "text": [
      "epoch 0 validation loss 0.3042736351490021\n",
      "epoch 1 validation loss 0.24123067408800125\n",
      "epoch 2 validation loss 0.20428873598575592\n",
      "epoch 3 validation loss 0.1966795176267624\n",
      "epoch 4 validation loss 0.18778959661722183\n",
      "epoch 5 validation loss 0.1432029753923416\n",
      "epoch 6 validation loss 0.1496509239077568\n",
      "epoch 7 validation loss 0.1767621636390686\n",
      "epoch 8 validation loss 0.2049512416124344\n",
      "epoch 9 validation loss 0.18714945018291473\n",
      "epoch 10 validation loss 0.13981636613607407\n",
      "epoch 11 validation loss 0.16237181425094604\n",
      "epoch 12 validation loss 0.18227747827768326\n",
      "epoch 13 validation loss 0.16066179424524307\n",
      "epoch 14 validation loss 0.16325021535158157\n",
      "epoch 15 validation loss 0.1522814705967903\n",
      "epoch 16 validation loss 0.16813180595636368\n",
      "epoch 17 validation loss 0.14612016081809998\n",
      "epoch 18 validation loss 0.16658736765384674\n",
      "epoch 19 validation loss 0.1450727880001068\n",
      "epoch 20 validation loss 0.15182381868362427\n",
      "epoch 21 validation loss 0.15571466833353043\n",
      "epoch 22 validation loss 0.2029663845896721\n",
      "epoch 23 validation loss 0.17628975212574005\n",
      "epoch 24 validation loss 0.17573866993188858\n",
      "epoch 25 validation loss 0.1431141346693039\n",
      "epoch 26 validation loss 0.15377947688102722\n",
      "epoch 27 validation loss 0.18554571270942688\n",
      "epoch 28 validation loss 0.17938442528247833\n",
      "epoch 29 validation loss 0.1645384207367897\n",
      "epoch 30 validation loss 0.15140343457460403\n",
      "epoch 31 validation loss 0.18323423713445663\n",
      "epoch 32 validation loss 0.1667865440249443\n",
      "epoch 33 validation loss 0.17116820812225342\n",
      "epoch 34 validation loss 0.18946126103401184\n",
      "epoch 35 validation loss 0.1699470952153206\n",
      "epoch 36 validation loss 0.1421760618686676\n",
      "epoch 37 validation loss 0.1747300699353218\n",
      "epoch 38 validation loss 0.18107162415981293\n",
      "epoch 39 validation loss 0.1650584489107132\n",
      "epoch 40 validation loss 0.16128823161125183\n",
      "epoch 41 validation loss 0.18205855786800385\n",
      "epoch 42 validation loss 0.14679142087697983\n",
      "epoch 43 validation loss 0.14900413155555725\n",
      "epoch 44 validation loss 0.1703905165195465\n",
      "epoch 45 validation loss 0.19008545577526093\n",
      "epoch 46 validation loss 0.17376472800970078\n",
      "epoch 47 validation loss 0.16252467781305313\n",
      "epoch 48 validation loss 0.1519053429365158\n",
      "epoch 49 validation loss 0.1751798912882805\n",
      "epoch 50 validation loss 0.1613875776529312\n",
      "epoch 51 validation loss 0.17223158478736877\n",
      "epoch 52 validation loss 0.1456090584397316\n",
      "epoch 53 validation loss 0.17161981016397476\n",
      "epoch 54 validation loss 0.19358863681554794\n",
      "epoch 55 validation loss 0.1822143793106079\n",
      "epoch 56 validation loss 0.1961374133825302\n",
      "epoch 57 validation loss 0.18077589571475983\n",
      "epoch 58 validation loss 0.17752454429864883\n",
      "epoch 59 validation loss 0.16976609081029892\n",
      "epoch 60 validation loss 0.18478751182556152\n",
      "epoch 61 validation loss 0.19587579369544983\n",
      "epoch 62 validation loss 0.1392500288784504\n",
      "epoch 63 validation loss 0.17935875803232193\n",
      "epoch 64 validation loss 0.17039458453655243\n",
      "epoch 65 validation loss 0.16723759472370148\n",
      "epoch 66 validation loss 0.16834136843681335\n",
      "epoch 67 validation loss 0.1903967410326004\n",
      "epoch 68 validation loss 0.1543377935886383\n",
      "epoch 69 validation loss 0.1738419309258461\n",
      "epoch 70 validation loss 0.18839266896247864\n",
      "epoch 71 validation loss 0.18180746585130692\n",
      "epoch 72 validation loss 0.17034800350666046\n",
      "epoch 73 validation loss 0.19933302700519562\n",
      "epoch 74 validation loss 0.1716959998011589\n",
      "epoch 75 validation loss 0.1697809100151062\n",
      "epoch 76 validation loss 0.16413230448961258\n",
      "epoch 77 validation loss 0.1686362400650978\n",
      "epoch 78 validation loss 0.17807795107364655\n",
      "epoch 79 validation loss 0.1883787289261818\n",
      "epoch 80 validation loss 0.17923463881015778\n",
      "epoch 81 validation loss 0.14831803739070892\n",
      "epoch 82 validation loss 0.1723746433854103\n",
      "epoch 83 validation loss 0.17544003576040268\n",
      "epoch 84 validation loss 0.18894974142313004\n",
      "epoch 85 validation loss 0.19985295832157135\n",
      "epoch 86 validation loss 0.17098894715309143\n",
      "epoch 87 validation loss 0.14757979661226273\n",
      "epoch 88 validation loss 0.1462790071964264\n",
      "epoch 89 validation loss 0.18343377113342285\n",
      "epoch 90 validation loss 0.18528905510902405\n",
      "epoch 91 validation loss 0.17598138004541397\n",
      "epoch 92 validation loss 0.1636047586798668\n",
      "epoch 93 validation loss 0.18003124743700027\n",
      "epoch 94 validation loss 0.16064754128456116\n",
      "epoch 95 validation loss 0.1641698181629181\n",
      "epoch 96 validation loss 0.17259138822555542\n",
      "epoch 97 validation loss 0.1613134816288948\n",
      "epoch 98 validation loss 0.14230063557624817\n",
      "epoch 99 validation loss 0.13278456777334213\n",
      "\n",
      "Finished Training\n"
     ]
    }
   ],
   "source": [
    "num_epochs = 100\n",
    "all_losses = []\n",
    "for epoch in tqdm(range(num_epochs)):  # loop over the dataset multiple times\n",
    "    # train\n",
    "    for data in train_dataloader:\n",
    "        # get the inputs; data is a list of [inputs, labels]\n",
    "        input, label = data\n",
    "\n",
    "        prediction = forward(model, input)            # TODO: Use our current model to predict\n",
    "        loss = compute_loss(prediction, label)        # TODO: Compute the loss between our prediction and the ground truth\n",
    "        gradient = backward(model, input, label, loss)                       # TODO: Compute gradients for our model parameters\n",
    "        model = gradient_descent_step(model, gradient, learning_rate)                # TODO: Update our model parameters with the computed gradients\n",
    "        \n",
    "    # evaluate\n",
    "    validation_losses = []\n",
    "    for data in valid_dataloader:\n",
    "        # get the inputs; data is a list of [inputs, labels]\n",
    "        inputs, labels = data\n",
    "\n",
    "        with torch.no_grad():\n",
    "            outputs = forward(model, inputs)        # TODO: Use our current model to predict\n",
    "            loss = compute_loss(outputs, labels)    # TODO: Compute the loss between our prediction and the ground truth\n",
    "\n",
    "            validation_losses.append(loss.item())\n",
    "    print(f\"epoch {epoch} validation loss {sum(validation_losses)}\")\n",
    "    all_losses.append(sum(validation_losses))\n",
    "print('Finished Training')"
   ]
  },
  {
   "cell_type": "code",
   "execution_count": null,
   "metadata": {},
   "outputs": [],
   "source": []
  },
  {
   "cell_type": "code",
   "execution_count": null,
   "metadata": {},
   "outputs": [],
   "source": []
  }
 ],
 "metadata": {
  "kernelspec": {
   "display_name": "Python 3",
   "language": "python",
   "name": "python3"
  },
  "language_info": {
   "codemirror_mode": {
    "name": "ipython",
    "version": 3
   },
   "file_extension": ".py",
   "mimetype": "text/x-python",
   "name": "python",
   "nbconvert_exporter": "python",
   "pygments_lexer": "ipython3",
   "version": "3.7.4"
  }
 },
 "nbformat": 4,
 "nbformat_minor": 2
}
