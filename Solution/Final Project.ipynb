{
 "cells": [
  {
   "cell_type": "markdown",
   "metadata": {},
   "source": [
    "# It's the Final Countdown (Project)!"
   ]
  },
  {
   "cell_type": "markdown",
   "metadata": {},
   "source": [
    "Welcome to your Final Project, where all your machine learning skills will be put to test completing a deep learning task!\n",
    "  \n",
    "We will use PyTorch to build a small neural network to predict if a person is wearing a face mask or not!\n",
    "\n",
    "<img src=\"https://cdn.romania-insider.com/cdn/ff/aktSImH-OfcpgkvvcRwBFtSoRtFaVFtyU3mBCjGPw-s/1628000060/public/styles/article_large_image/public/2020-07/face_recognition_mask_by_viktoriia_miroshnikovadreamstime.com_.jpg\" alt=\"FaceMask\" style=\"width: 250px;\"/>\n",
    "\n",
    "\n",
    "Because of the difficulty of this task, we have completed most of the tedious coding for you. Your task is to complete the neural network training and evaluation pipeline by filling out lines marked with #TODO in [Training and Evaluation](#Training-and-Evaluation)."
   ]
  },
  {
   "cell_type": "markdown",
   "metadata": {},
   "source": [
    "## Install and import required python libraries"
   ]
  },
  {
   "cell_type": "code",
   "execution_count": 1,
   "metadata": {},
   "outputs": [
    {
     "name": "stdout",
     "output_type": "stream",
     "text": [
      "Requirement already satisfied: torch in /Users/Jason/opt/anaconda3/lib/python3.8/site-packages (1.10.0)\r\n",
      "Requirement already satisfied: numpy in /Users/Jason/opt/anaconda3/lib/python3.8/site-packages (1.20.1)\r\n",
      "Requirement already satisfied: matplotlib in /Users/Jason/opt/anaconda3/lib/python3.8/site-packages (3.3.4)\r\n",
      "Requirement already satisfied: tqdm in /Users/Jason/opt/anaconda3/lib/python3.8/site-packages (4.59.0)\r\n",
      "Requirement already satisfied: cycler>=0.10 in /Users/Jason/opt/anaconda3/lib/python3.8/site-packages (from matplotlib) (0.10.0)\r\n",
      "Requirement already satisfied: pillow>=6.2.0 in /Users/Jason/opt/anaconda3/lib/python3.8/site-packages (from matplotlib) (8.2.0)\r\n",
      "Requirement already satisfied: python-dateutil>=2.1 in /Users/Jason/opt/anaconda3/lib/python3.8/site-packages (from matplotlib) (2.8.1)\r\n",
      "Requirement already satisfied: kiwisolver>=1.0.1 in /Users/Jason/opt/anaconda3/lib/python3.8/site-packages (from matplotlib) (1.3.1)\r\n",
      "Requirement already satisfied: pyparsing!=2.0.4,!=2.1.2,!=2.1.6,>=2.0.3 in /Users/Jason/opt/anaconda3/lib/python3.8/site-packages (from matplotlib) (2.4.7)\r\n",
      "Requirement already satisfied: six in /Users/Jason/opt/anaconda3/lib/python3.8/site-packages (from cycler>=0.10->matplotlib) (1.15.0)\r\n",
      "Requirement already satisfied: typing-extensions in /Users/Jason/opt/anaconda3/lib/python3.8/site-packages (from torch) (3.7.4.3)\r\n"
     ]
    }
   ],
   "source": [
    "!pip install torch numpy matplotlib tqdm\n",
    "import torch\n",
    "import torch.nn as nn\n",
    "import torch.nn.functional as F\n",
    "from ModelWrapper import ModelWrapper, backward, gradient_descent_step, forward, compute_loss\n",
    "from torch.utils.data import Dataset, DataLoader\n",
    "from tqdm.notebook import tqdm"
   ]
  },
  {
   "cell_type": "markdown",
   "metadata": {},
   "source": [
    "# Model"
   ]
  },
  {
   "cell_type": "code",
   "execution_count": 2,
   "metadata": {},
   "outputs": [],
   "source": [
    "class Net(nn.Module):\n",
    "    def __init__(self):\n",
    "        super().__init__()\n",
    "        self.fc1 = nn.Linear(20, 20)\n",
    "        self.fc2 = nn.Linear(20, 20)\n",
    "        self.fc3 = nn.Linear(20, 1)\n",
    "\n",
    "    def forward(self, x):\n",
    "        x = F.relu(self.fc1(x))\n",
    "        x = F.relu(self.fc2(x))\n",
    "        x = self.fc3(x)\n",
    "        return x\n",
    "\n",
    "net = Net()\n",
    "model = ModelWrapper(net) # our prediction model"
   ]
  },
  {
   "cell_type": "markdown",
   "metadata": {},
   "source": [
    "# Dataset"
   ]
  },
  {
   "cell_type": "code",
   "execution_count": 3,
   "metadata": {},
   "outputs": [],
   "source": [
    "class fakeDataset(Dataset):\n",
    "    def __init__(self, length, seed=0):\n",
    "        self.data = torch.rand(length, 20)\n",
    "        self.seed = seed\n",
    "\n",
    "    def __len__(self):\n",
    "        return len(self.data)\n",
    "\n",
    "    def __getitem__(self, idx):\n",
    "        return self.data[idx], torch.rand(1)"
   ]
  },
  {
   "cell_type": "code",
   "execution_count": 4,
   "metadata": {},
   "outputs": [],
   "source": [
    "# data loaders that generate batches for our stochastic gradient descent\n",
    "training_data = fakeDataset(10000)\n",
    "valid_data = fakeDataset(100)\n",
    "\n",
    "train_dataloader = DataLoader(training_data, batch_size=64, shuffle=True)\n",
    "valid_dataloader = DataLoader(valid_data, batch_size=64, shuffle=False)"
   ]
  },
  {
   "cell_type": "markdown",
   "metadata": {},
   "source": [
    "# Hyper-parameter"
   ]
  },
  {
   "cell_type": "code",
   "execution_count": 5,
   "metadata": {},
   "outputs": [],
   "source": [
    "learning_rate = 1e-3 # TODO"
   ]
  },
  {
   "cell_type": "markdown",
   "metadata": {},
   "source": [
    "# Training and Evaluation"
   ]
  },
  {
   "cell_type": "code",
   "execution_count": 6,
   "metadata": {
    "scrolled": false
   },
   "outputs": [
    {
     "data": {
      "application/vnd.jupyter.widget-view+json": {
       "model_id": "02a16eb47cbd4510860392a40675147d",
       "version_major": 2,
       "version_minor": 0
      },
      "text/plain": [
       "  0%|          | 0/100 [00:00<?, ?it/s]"
      ]
     },
     "metadata": {},
     "output_type": "display_data"
    },
    {
     "name": "stdout",
     "output_type": "stream",
     "text": [
      "epoch 0 validation loss 0.42478957772254944\n",
      "epoch 1 validation loss 0.21815886348485947\n",
      "epoch 2 validation loss 0.2063795030117035\n",
      "epoch 3 validation loss 0.16212131083011627\n",
      "epoch 4 validation loss 0.17932909727096558\n",
      "epoch 5 validation loss 0.1575794592499733\n",
      "epoch 6 validation loss 0.18733255565166473\n",
      "epoch 7 validation loss 0.16224074363708496\n",
      "epoch 8 validation loss 0.16616976261138916\n",
      "epoch 9 validation loss 0.15589477866888046\n",
      "epoch 10 validation loss 0.16949883103370667\n",
      "epoch 11 validation loss 0.16844642907381058\n",
      "epoch 12 validation loss 0.15984052419662476\n",
      "epoch 13 validation loss 0.1709107980132103\n",
      "epoch 14 validation loss 0.18126478046178818\n",
      "epoch 15 validation loss 0.14605753868818283\n",
      "epoch 16 validation loss 0.17537662386894226\n",
      "epoch 17 validation loss 0.14602074027061462\n",
      "epoch 18 validation loss 0.17843756824731827\n",
      "epoch 19 validation loss 0.161487378180027\n",
      "epoch 20 validation loss 0.20396749675273895\n",
      "epoch 21 validation loss 0.1716245710849762\n",
      "epoch 22 validation loss 0.18405836075544357\n",
      "epoch 23 validation loss 0.1698082983493805\n",
      "epoch 24 validation loss 0.17138154059648514\n",
      "epoch 25 validation loss 0.1676110327243805\n",
      "epoch 26 validation loss 0.15677686035633087\n",
      "epoch 27 validation loss 0.17311251163482666\n",
      "epoch 28 validation loss 0.1882033422589302\n",
      "epoch 29 validation loss 0.18136561661958694\n",
      "epoch 30 validation loss 0.17774732410907745\n",
      "epoch 31 validation loss 0.1639571264386177\n",
      "epoch 32 validation loss 0.1579117700457573\n",
      "epoch 33 validation loss 0.19119691848754883\n",
      "epoch 34 validation loss 0.183043472468853\n",
      "epoch 35 validation loss 0.16497685760259628\n",
      "epoch 36 validation loss 0.1409415453672409\n",
      "epoch 37 validation loss 0.16390733420848846\n",
      "epoch 38 validation loss 0.17569875717163086\n",
      "epoch 39 validation loss 0.1661500334739685\n",
      "epoch 40 validation loss 0.15569326281547546\n",
      "epoch 41 validation loss 0.15774303674697876\n",
      "epoch 42 validation loss 0.18942318111658096\n",
      "epoch 43 validation loss 0.1708187535405159\n",
      "epoch 44 validation loss 0.16112761199474335\n",
      "epoch 45 validation loss 0.1439007967710495\n",
      "epoch 46 validation loss 0.1742284744977951\n",
      "epoch 47 validation loss 0.18124502897262573\n",
      "epoch 48 validation loss 0.16351456940174103\n",
      "epoch 49 validation loss 0.15703750401735306\n",
      "epoch 50 validation loss 0.13751916214823723\n",
      "epoch 51 validation loss 0.16481394320726395\n",
      "epoch 52 validation loss 0.15608683973550797\n",
      "epoch 53 validation loss 0.16593079268932343\n",
      "epoch 54 validation loss 0.1741120144724846\n",
      "epoch 55 validation loss 0.1448296159505844\n",
      "epoch 56 validation loss 0.17962564527988434\n",
      "epoch 57 validation loss 0.17580945789813995\n",
      "epoch 58 validation loss 0.17823104560375214\n",
      "epoch 59 validation loss 0.18535900115966797\n",
      "epoch 60 validation loss 0.1671869084239006\n",
      "epoch 61 validation loss 0.15995385497808456\n",
      "epoch 62 validation loss 0.18694807589054108\n",
      "epoch 63 validation loss 0.1758739948272705\n",
      "epoch 64 validation loss 0.15869787707924843\n",
      "epoch 65 validation loss 0.17053057253360748\n",
      "epoch 66 validation loss 0.17986858636140823\n",
      "epoch 67 validation loss 0.18579983711242676\n",
      "epoch 68 validation loss 0.17172440886497498\n",
      "epoch 69 validation loss 0.18904343247413635\n",
      "epoch 70 validation loss 0.15115272253751755\n",
      "epoch 71 validation loss 0.17644064128398895\n",
      "epoch 72 validation loss 0.1813003495335579\n",
      "epoch 73 validation loss 0.17107772082090378\n",
      "epoch 74 validation loss 0.17919746786355972\n",
      "epoch 75 validation loss 0.15513016283512115\n",
      "epoch 76 validation loss 0.13936389982700348\n",
      "epoch 77 validation loss 0.13431092351675034\n",
      "epoch 78 validation loss 0.18783821910619736\n",
      "epoch 79 validation loss 0.20425426959991455\n",
      "epoch 80 validation loss 0.17515525221824646\n",
      "epoch 81 validation loss 0.17292138934135437\n",
      "epoch 82 validation loss 0.1814531311392784\n",
      "epoch 83 validation loss 0.16866867244243622\n",
      "epoch 84 validation loss 0.18255545943975449\n",
      "epoch 85 validation loss 0.18564750999212265\n",
      "epoch 86 validation loss 0.16603244096040726\n",
      "epoch 87 validation loss 0.17818507552146912\n",
      "epoch 88 validation loss 0.17959078401327133\n",
      "epoch 89 validation loss 0.16774576157331467\n",
      "epoch 90 validation loss 0.16616176068782806\n",
      "epoch 91 validation loss 0.16586647927761078\n",
      "epoch 92 validation loss 0.16674155741930008\n",
      "epoch 93 validation loss 0.16565758734941483\n",
      "epoch 94 validation loss 0.162749782204628\n",
      "epoch 95 validation loss 0.16730329394340515\n",
      "epoch 96 validation loss 0.15685481578111649\n",
      "epoch 97 validation loss 0.17002923786640167\n",
      "epoch 98 validation loss 0.17534806579351425\n",
      "epoch 99 validation loss 0.16530807316303253\n",
      "Finished Training\n"
     ]
    }
   ],
   "source": [
    "num_epochs = 100\n",
    "all_losses = []\n",
    "for epoch in tqdm(range(num_epochs)):  # loop over the dataset multiple times\n",
    "    # train\n",
    "    for data in train_dataloader:\n",
    "        # get the inputs; data is a list of [inputs, labels]\n",
    "        input, label = data\n",
    "\n",
    "        prediction = forward(model, input)            # TODO: Use our current model to predict\n",
    "        loss = compute_loss(prediction, label)        # TODO: Compute the loss between our prediction and the ground truth\n",
    "        gradient = backward(model, input, label, loss)                       # TODO: Compute gradients for our model parameters\n",
    "        model = gradient_descent_step(model, gradient, learning_rate)                # TODO: Update our model parameters with the computed gradients\n",
    "        \n",
    "    # evaluate\n",
    "    validation_losses = []\n",
    "    for data in valid_dataloader:\n",
    "        # get the inputs; data is a list of [inputs, labels]\n",
    "        inputs, labels = data\n",
    "\n",
    "        with torch.no_grad():\n",
    "            outputs = forward(model, inputs)        # TODO: Use our current model to predict\n",
    "            loss = compute_loss(outputs, labels)    # TODO: Compute the loss between our prediction and the ground truth\n",
    "\n",
    "            validation_losses.append(loss.item())\n",
    "    print(f\"epoch {epoch} validation loss {sum(validation_losses)}\")\n",
    "    all_losses.append(sum(validation_losses))\n",
    "print('Finished Training')"
   ]
  },
  {
   "cell_type": "markdown",
   "metadata": {},
   "source": [
    "### (Optional) Plot the valiation loss. Is it always decreasing? If not, why?"
   ]
  },
  {
   "cell_type": "markdown",
   "metadata": {},
   "source": [
    "#### You've reached the end of the final project! Hooray!"
   ]
  }
 ],
 "metadata": {
  "kernelspec": {
   "display_name": "Python 3",
   "language": "python",
   "name": "python3"
  },
  "language_info": {
   "codemirror_mode": {
    "name": "ipython",
    "version": 3
   },
   "file_extension": ".py",
   "mimetype": "text/x-python",
   "name": "python",
   "nbconvert_exporter": "python",
   "pygments_lexer": "ipython3",
   "version": "3.8.8"
  }
 },
 "nbformat": 4,
 "nbformat_minor": 2
}
